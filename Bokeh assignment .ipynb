{
 "cells": [
  {
   "cell_type": "code",
   "execution_count": null,
   "id": "a1a56aa4-a238-4530-ae5d-256d56144711",
   "metadata": {},
   "outputs": [],
   "source": [
    "#Question 1\n",
    "\n",
    "Install Bokeh\n",
    "Import Required Libraries\n",
    "Prepare Data\n",
    "Create a Figure\n",
    "Add Glyphs\n",
    "Specify Output File (Optional)\n",
    "Display the Plot\n",
    "    "
   ]
  },
  {
   "cell_type": "code",
   "execution_count": null,
   "id": "f42cd5c9-ee8f-4a4f-98fe-7a61d7140fe4",
   "metadata": {},
   "outputs": [],
   "source": [
    "#Question 2\n",
    "\n",
    "In Bokeh, glyphs are visual shapes or markers that represent data points on a plot. They are fundamental components used to visualize data, such as points, lines, bars, patches, and more complex shapes. Glyphs in Bokeh can be customized with various attributes like size, color, transparency, and more.\n",
    "\n",
    "Adding Glyphs to a Bokeh Plot\n",
    "To add glyphs to a Bokeh plot, you typically follow these steps:\n",
    "\n",
    "Import Necessary Modules: Import the required classes and functions from Bokeh.\n",
    "\n",
    "Prepare Data: Prepare your data in Python lists, NumPy arrays, or Pandas data structures.\n",
    "\n",
    "Create a Figure: Create a figure object (figure) where glyphs will be added.\n",
    "\n",
    "Add Glyphs: Use methods provided by the figure object to add glyphs such as circles, squares, lines, bars, etc., to represent your data.\n",
    "\n",
    "Customize Glyphs: Customize the glyphs by setting attributes like size, color, alpha (transparency), line width, etc.\n",
    "\n",
    "Display or Save the Plot: Finally, display the plot using show() or save it to an HTML file using output_file().\n",
    "\n",
    "\n",
    "\n",
    "\n",
    "\n",
    "from bokeh.plotting import figure, output_file, show\n",
    "import numpy as np\n",
    "\n",
    "x = np.linspace(0, 10, 100)\n",
    "y = np.sin(x)\n",
    "\n",
    "\n",
    "p = figure(title='Bokeh Plot with Circles', x_axis_label='X-axis', y_axis_label='Y-axis')\n",
    "\n",
    "\n",
    "p.circle(x, y, size=8, color='blue', alpha=0.5, legend_label='Sine Curve')\n",
    "\n",
    "p.legend.title = 'Legend'\n",
    "p.legend.location = 'top_left'\n",
    "\n",
    "\n",
    "output_file('bokeh_circle_glyphs.html')\n",
    "\n",
    "show(p)\n"
   ]
  },
  {
   "cell_type": "code",
   "execution_count": null,
   "id": "9cc4837d-ec00-4ce2-bfad-da28a68906b2",
   "metadata": {},
   "outputs": [],
   "source": [
    "#Question 3\n",
    "\n",
    "Customizing the appearance of a Bokeh plot involves setting various attributes such as axes labels, titles, legends, colors, fonts, and more. Bokeh provides flexible options to adjust these elements to suit your visualization needs\n",
    "\n",
    "Import Necessary Modules\n",
    "Prepare Data\n",
    "Create a Figure Object\n",
    "Customize Plot Attributes\n",
    "Add Glyphs\n",
    "Specify Output File \n",
    "Show or Save the Plot    \n"
   ]
  },
  {
   "cell_type": "code",
   "execution_count": null,
   "id": "05baa488-0ee6-4d5a-8bef-53b3473516d4",
   "metadata": {},
   "outputs": [],
   "source": [
    "#Question 4\n",
    "\n",
    "A Bokeh server is a Python process that allows you to create and serve interactive Bokeh plots and applications. It enables you to build dynamic and interactive web applications directly from Python code. \n",
    "\n",
    "Import Necessary Modules\n",
    "Define Plot and Data\n",
    "Create Callbacks\n",
    "Create Plot\n",
    "Define Layout\n",
    "Create Bokeh Application\n",
    "Run Bokeh Server\n"
   ]
  },
  {
   "cell_type": "code",
   "execution_count": null,
   "id": "270d00cf-558a-48df-af81-f20e8df3d7d8",
   "metadata": {},
   "outputs": [],
   "source": [
    "#Question 5\n",
    "\n",
    "Embedding a Bokeh plot into a web page or dashboard using Flask or Django involves creating a Bokeh plot as a standalone HTML file or as a Bokeh server application.\n",
    "\n",
    "Install Bokeh\n",
    "Create Bokeh Plot Script\n",
    "Integrate with Flask\n",
    "Create Template\n",
    "Run Flask Application\n"
   ]
  }
 ],
 "metadata": {
  "kernelspec": {
   "display_name": "Python 3 (ipykernel)",
   "language": "python",
   "name": "python3"
  },
  "language_info": {
   "codemirror_mode": {
    "name": "ipython",
    "version": 3
   },
   "file_extension": ".py",
   "mimetype": "text/x-python",
   "name": "python",
   "nbconvert_exporter": "python",
   "pygments_lexer": "ipython3",
   "version": "3.10.8"
  }
 },
 "nbformat": 4,
 "nbformat_minor": 5
}
